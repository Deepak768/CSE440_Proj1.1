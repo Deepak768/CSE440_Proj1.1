{
 "cells": [
  {
   "cell_type": "markdown",
   "metadata": {
    "state": "normal"
   },
   "source": [
    "# Designing a Game Playing AI Using MinMax with α - β Pruning\n",
    "## Introduction\n",
    "\n",
    "Our objective is to implement naive Min-Max and Min-Max with alpha / beta pruning to find a winning strategy for either player. Moreover, both players will try to win as fast as possible."
   ]
  },
  {
   "cell_type": "code",
   "execution_count": null,
   "metadata": {
    "state": "normal"
   },
   "outputs": [],
   "source": []
  },
  {
   "cell_type": "code",
   "execution_count": null,
   "metadata": {
    "state": "normal"
   },
   "outputs": [],
   "source": [
    "import numpy as np\n",
    "import itertools"
   ]
  },
  {
   "cell_type": "markdown",
   "metadata": {},
   "source": [
    "#### Resources:\n",
    "----------------\n",
    "    CH05: Game Playing \n",
    "    \n",
    "    https://www.youtube.com/watch?v=l-hh51ncgDI&ab_channel=SebastianLague"
   ]
  },
  {
   "cell_type": "markdown",
   "metadata": {
    "state": "normal"
   },
   "source": [
    "#### How does it work \n",
    "------------------------\n",
    "\n",
    "9 possible moves \n",
    "\n",
    "max places 'X'\n",
    "\n",
    "min places 'O'\n",
    "    - this happens until we reach the leaf node or terminal state(represents the utility value of terminal state)\n",
    "        - this is done from the point of new max\n",
    "  \n",
    "high values are good for max and bad for min \n",
    "\n",
    "max's jobs to use the search tree(utility terminal states to det. the best moves)\n",
    "\n",
    "\n"
   ]
  },
  {
   "cell_type": "markdown",
   "metadata": {},
   "source": [
    "### Minmax Alg.\n",
    "-------------------\n",
    "Designed to det. the optimal solution stragety for the max and thus decide what the best first move\n",
    "\n",
    "###### steps:\n",
    "    - Generate the whole game tree, all the way down to the terminal state\n",
    "    - apply the utility funciton to each terminal state to get its value \n",
    "    - use the utility of the terminal states to det the utility of the node\n",
    "        - we level higher up in the search tree\n",
    "            - consider the left most 3 leaf nodes\n",
    "    - continue backing up the values from the leaf nodes toward the roor, one layer at a time \n",
    "    \n",
    "    - eventually, the backed-up values reach the top of the tree\n",
    "        - at this point max chooses the move that leads to highest value. \n",
    "\n",
    "###### minmax decision:\n",
    "    - it maximizes the utility under the assumpition that the opponent will play perfect to minimize it. \n",
    "\n"
   ]
  },
  {
   "cell_type": "markdown",
   "metadata": {},
   "source": [
    "#### Alpha-Beta Purning\n",
    "-------------------------\n",
    "\n",
    "purining\n",
    "    - The process of eliminating a branch of the search tree from consideration without examining \n",
    "\n",
    "alphabeta:\n",
    "        - it returns the same move as minimax would, but prunes away the branches that cannot possibly influence the final           decision \n",
    "        \n",
    "The alphabeta seach function itself is just a copy of the maxvalue function w/extra code to remember and return the best found move\n",
    "\n",
    "effectiveness of alpha beta purining:\n",
    "            - effictiveness of AB depends on ordering in which sucessours are examined \n",
    "            - worthwhile to try to examine 1st the successors that are closely to be the best "
   ]
  },
  {
   "cell_type": "markdown",
   "metadata": {},
   "source": [
    "### Puesdocode from the book \n",
    "-------------------\n",
    "def max_value(startgame,a,b) //returns the minmax value of the state\n",
    "    inputs:state, current state in game\n",
    "    game,game description \n",
    "    a, the best score for the MAX along the path to state\n",
    "    b, the best score for the MIN along the path to state \n",
    "   \n",
    "   //cut of state \n",
    "   if cutoff-test(State) \n",
    "   then return Eval(state)\n",
    "   \n",
    "       for each s in successors(state) do\n",
    "       a = max(a, min_value(s,game,a,b))\n",
    "       if a >= fl then return first layer//or if a <=b return//\n",
    "\n",
    "   return a \n",
    "\n",
    "def min_value(state,game,a,fl) //returns the minimax value of the state\n",
    "    if cutoff-test(state)\n",
    "    then return Eval(state)\n",
    "    \n",
    "    for each s in successor(state) do\n",
    "    a= max(a,min_value(s,game,a,b))\n",
    "    if a <=ft a \n",
    "    then return a \n",
    "    \n",
    "    return fl //first layer"
   ]
  },
  {
   "cell_type": "code",
   "execution_count": null,
   "metadata": {},
   "outputs": [],
   "source": [
    "# def Minimax_Decision(game):\n",
    "    #returns an operator \n",
    "    "
   ]
  },
  {
   "cell_type": "markdown",
   "metadata": {
    "state": "normal"
   },
   "source": [
    "## Tic Tac Toe\n",
    "Also known as \"Noughts and Crosses\". The roots of this game can be traced back to ancient Egyp, where such game boards have been found on roofing tiles dating from around 1300 BCE. It was also one of the first computer games; In 1952, ritish computer scientist Alexander S. Douglas developed OXO (or Noughts and Crosses) for the EDSAC computer at the University of Cambridge. His implememntation used MinMax and was able to play a perfect game against a human oponent.\n",
    "\n",
    "This class implememnts a TicTacToa game. The followng are the methods:\n",
    "* make_copy   : returns a copy of the game object.\n",
    "* move(ii,jj) : the player who's turn it is will check cell ii,jj\n",
    "* children    : returns a list of all game objects that result from 1 move\n",
    "* result      : returns the result, always between \\[-1,1\\]. A negative result indicates a player 2 win, 0 indicates a tie.\n",
    "* final_move  : return true if the current game is at a final state."
   ]
  },
  {
   "cell_type": "code",
   "execution_count": null,
   "metadata": {
    "state": "normal"
   },
   "outputs": [],
   "source": []
  },
  {
   "cell_type": "code",
   "execution_count": null,
   "metadata": {
    "state": "normal"
   },
   "outputs": [],
   "source": [
    "class game_TicTacToe:\n",
    "    def __init__(self):\n",
    "        self.ROWS = 3\n",
    "        self.COLS = 3\n",
    "        self.board = np.zeros((self.ROWS,self.COLS))\n",
    "        self.player = 1;\n",
    "        self.numMoves = 1;\n",
    "        \n",
    "    def make_copy(self):\n",
    "        newGame = game_TicTacToe()\n",
    "        newGame.board = self.board.copy()\n",
    "        newGame.player = self.player\n",
    "        return newGame\n",
    "    \n",
    "    def move(self,ii,jj):\n",
    "        if self.board[ii,jj] == 0:\n",
    "            self.board[ii,jj] = self.player\n",
    "        self.player *= -1\n",
    "        self.numMoves += 1;\n",
    "        return        \n",
    "        \n",
    "    def children(self):\n",
    "        children = []\n",
    "        for ii, jj in np.argwhere(self.board == 0):\n",
    "            newGame = self.make_copy()\n",
    "            newGame.move(ii,jj)\n",
    "            children.append(newGame)\n",
    "        return children\n",
    "    \n",
    "    def result(self):\n",
    "        PL1 = 3.0\n",
    "        PL2 = -3.0\n",
    "        if max(np.sum(self.board, axis=0)) == PL1 or max(np.sum(self.board, axis=1)) == PL1 or \\\n",
    "            np.trace(self.board) == PL1 or np.trace(np.fliplr(self.board)) == PL1:\n",
    "            return 1/self.numMoves\n",
    "        if min(np.sum(self.board, axis=0)) == PL2 or min(np.sum(self.board, axis=1)) == PL2 or \\\n",
    "            np.trace(self.board) == PL2 or np.trace(np.fliplr(self.board)) == PL2:\n",
    "            return -1/self.numMoves\n",
    "        return 0\n",
    "    \n",
    "    def final_move(self):\n",
    "        return self.ROWS * self.COLS == len(np.nonzero(self.board)[0]) or (self.result() != 0)"
   ]
  },
  {
   "cell_type": "code",
   "execution_count": null,
   "metadata": {
    "state": "normal"
   },
   "outputs": [],
   "source": []
  },
  {
   "cell_type": "code",
   "execution_count": null,
   "metadata": {
    "state": "normal"
   },
   "outputs": [],
   "source": []
  },
  {
   "cell_type": "code",
   "execution_count": null,
   "metadata": {
    "state": "normal"
   },
   "outputs": [],
   "source": []
  },
  {
   "cell_type": "code",
   "execution_count": null,
   "metadata": {
    "state": "normal"
   },
   "outputs": [],
   "source": []
  },
  {
   "cell_type": "code",
   "execution_count": null,
   "metadata": {
    "state": "normal"
   },
   "outputs": [],
   "source": []
  },
  {
   "cell_type": "markdown",
   "metadata": {
    "state": "normal"
   },
   "source": [
    "# Show_game\n",
    "\n",
    "Given a list of \"boards\" (every game class has a board field) this method will draw the game. For instance it might draw the following TicTacToa game:"
   ]
  },
  {
   "cell_type": "code",
   "execution_count": null,
   "metadata": {
    "state": "normal"
   },
   "outputs": [],
   "source": [
    "def show_game(plays, gameType='TicTacToe'):\n",
    "    \"\"\"\n",
    "    Default gameType is TicTacToe\n",
    "    \"\"\"\n",
    "    if np.sum(np.sum(np.abs(plays[0]))) != 0:\n",
    "        plays.reverse()\n",
    "    def ticks(player):\n",
    "        if player == 1:\n",
    "            return 'X'\n",
    "        if player == -1:\n",
    "            if gameType == 'TicTacToe':\n",
    "                return 'O'\n",
    "            return 'X'\n",
    "        return ' '\n",
    "    gameStr = ''\n",
    "    for play in plays:\n",
    "        playStr = []\n",
    "        ROWS,COLS =  np.shape(play)\n",
    "        for i in range(0,ROWS):\n",
    "            playStr.append('|'.join([' '+ticks(play[i,j])+' ' for j in range(0,COLS)]))\n",
    "        playStr = '\\n-----------\\n'.join(playStr)\n",
    "        gameStr += playStr\n",
    "        gameStr +='\\n\\n'\n",
    "    return gameStr"
   ]
  },
  {
   "cell_type": "code",
   "execution_count": null,
   "metadata": {
    "state": "normal"
   },
   "outputs": [],
   "source": [
    "#this is a utility function:gives a numeric value for the outcome of the game, represents by -1,1"
   ]
  },
  {
   "cell_type": "code",
   "execution_count": null,
   "metadata": {
    "state": "normal"
   },
   "outputs": [],
   "source": []
  },
  {
   "cell_type": "code",
   "execution_count": null,
   "metadata": {
    "state": "normal"
   },
   "outputs": [],
   "source": []
  },
  {
   "cell_type": "code",
   "execution_count": null,
   "metadata": {
    "state": "normal"
   },
   "outputs": [],
   "source": []
  },
  {
   "cell_type": "code",
   "execution_count": null,
   "metadata": {
    "state": "normal"
   },
   "outputs": [],
   "source": []
  },
  {
   "cell_type": "markdown",
   "metadata": {
    "state": "normal"
   },
   "source": [
    "# Min Max\n",
    "\n",
    "Create a class of MinMax that has an alphabeta method and an minmax method\n",
    "\n",
    "Params: game object, current alpha, current beta, and True if it's the max turn.\n",
    "Returns: a list of the boards of the best game alpha and beta could play, and the result of the game (same as the result of the game object that has the last board)"
   ]
  },
  {
   "cell_type": "code",
   "execution_count": null,
   "metadata": {
    "state": "normal"
   },
   "outputs": [],
   "source": []
  },
  {
   "cell_type": "code",
   "execution_count": null,
   "metadata": {
    "state": "normal"
   },
   "outputs": [],
   "source": [
    "# min max alpha beta\n",
    "class minmax_alphabeta(object):\n",
    "    def __init__(self,game):\n",
    "        self.game = game\n",
    "        self.bestPlay = list()\n",
    "        # empty init\n",
    "        return\n",
    "\n",
    "    # get a strategy to win the game\n",
    "    def alpabeta(self, game=None, a=-np.inf, b=np.inf, maximizingPlayer=True):\n",
    "        \n",
    "        '''i followed the book alg. but instead of writing two funcitons, i just wrote in one '''\n",
    "        global GLOBAL_NUM_CALLS\n",
    "        board = list()\n",
    "        \n",
    "        #base case \n",
    "        #since we don't have depth, so how would we \n",
    "        #return evaluation funciotn?\n",
    "        #if depth == 0 or game over in posittion \n",
    "        #base case like this:\n",
    "        #if game.final_move:\n",
    "        #return \n",
    "        \n",
    "        \n",
    "        if maximizingPlayer:\n",
    "            maxEval = -np.inf\n",
    "            for child in game.children():\n",
    "                Eval = self.alpabeta(child,a,b,maximizingPlayer = False)\n",
    "                print(\"evaluate maxizing player\", Eval[1])\n",
    "                maxEval = max(Eval[1], maxEval)\n",
    "                a = max(a,Eval[1])\n",
    "                if (b<=a):\n",
    "                    break\n",
    "            print(\"maxalpa\", maxEval)\n",
    "            board.append(maxEval)\n",
    "            return board, maxEval\n",
    "        else:\n",
    "            minEval = np.inf\n",
    "            for child in game.children():\n",
    "                Eval = self.alpabeta(child,a,b, maximizingPlayer = True)\n",
    "                minEval = min(Eval[1],minEval)\n",
    "                b = min(b, Eval[1])\n",
    "                if(b<=a):\n",
    "                    break\n",
    "            print(\"append_min\", minEval)\n",
    "            board.append(minEval)\n",
    "            return board, minEval\n",
    "    \n",
    "    def minmax(self, game = None, maximizingPlayer=True):\n",
    "        global GLOBAL_NUM_CALLS\n",
    "        GLOBAL_NUM_CALLS += 1\n",
    "        \n",
    "        #base case, not sure how since we dont know the dept \n",
    "        # if depth ==0 or game over in position \n",
    "        # return evaluation.\n",
    "        #we didnt have to return anything since we are not dealing with depth\n",
    "        \n",
    "         #if game.final_move:\n",
    "        # return \n",
    "        \n",
    "        game = game_TicTacToe()\n",
    "        board = [game.board] \n",
    "        \n",
    "        #maxEval = -np.inf\n",
    "        #mineval = np.inf\n",
    "        if (maximizingPlayer):\n",
    "            maxEval = -np.inf\n",
    "\n",
    "            for child in game.children():\n",
    "                Eval= self.minmax(child,False)\n",
    "                maxEval = max(Eval[1], maxEval)\n",
    "            board.append(maxEval)\n",
    "            return board, maxEval\n",
    "        else:\n",
    "            minEval = np.inf\n",
    "            for child in game.children():\n",
    "                Eval = self.minmax(child, True)\n",
    "                minEval = min(Eval[1], minEval)\n",
    "            board.append(minEval)\n",
    "            return board, minEval \n",
    "                \n",
    "            "
   ]
  },
  {
   "cell_type": "code",
   "execution_count": null,
   "metadata": {
    "state": "normal"
   },
   "outputs": [],
   "source": [
    "k =game_TicTacToe()\n",
    "board = k.board\n",
    "\n"
   ]
  },
  {
   "cell_type": "code",
   "execution_count": null,
   "metadata": {},
   "outputs": [],
   "source": [
    "kk = minmax_alphabeta([k.board])\n",
    "kk.game"
   ]
  },
  {
   "cell_type": "markdown",
   "metadata": {},
   "source": [
    "## Tic Tac Toe Strategy using minmax\n",
    "Is there a winning strategy for either player in TicTacToa?\n",
    "How long can the the loosing player strech the game for?"
   ]
  },
  {
   "cell_type": "code",
   "execution_count": null,
   "metadata": {},
   "outputs": [],
   "source": [
    "GLOBAL_NUM_CALLS = 0\n",
    "minmax = minmax_alphabeta(game_TicTacToe())\n",
    "bestPlay, res = minmax.minmax()\n",
    "print(show_game(bestPlay))\n",
    "if res == 0:\n",
    "    print('A perfect game results in a tie')\n",
    "else:\n",
    "    print('player '+str(int(-np.sign(res)*1/2 +1.5))+' wins in turn '+str(int(1/res)))\n",
    "print('There were '+str(GLOBAL_NUM_CALLS)+' calls!')"
   ]
  },
  {
   "cell_type": "code",
   "execution_count": null,
   "metadata": {},
   "outputs": [],
   "source": []
  },
  {
   "cell_type": "code",
   "execution_count": null,
   "metadata": {},
   "outputs": [],
   "source": []
  },
  {
   "cell_type": "markdown",
   "metadata": {
    "state": "normal"
   },
   "source": [
    "## Tic Tac Toe Strategy using alphabta\n",
    "Is there a winning strategy for either player in TicTacToa?\n",
    "How long can the the loosing player strech the game for?"
   ]
  },
  {
   "cell_type": "code",
   "execution_count": null,
   "metadata": {
    "state": "normal"
   },
   "outputs": [],
   "source": [
    "GLOBAL_NUM_CALLS = 0\n",
    "minmax = minmax_alphabeta(game_TicTacToe())\n",
    "bestPlay, res = minmax.alpabeta()\n",
    "print(show_game(bestPlay))\n",
    "if res == 0:\n",
    "    print('A perfect game results in a tie')\n",
    "else:\n",
    "    print('player '+str(int(-np.sign(res)*1/2 +1.5))+' wins in turn '+str(int(1/res)))\n",
    "print('There were '+str(GLOBAL_NUM_CALLS)+' calls!')"
   ]
  },
  {
   "cell_type": "code",
   "execution_count": null,
   "metadata": {
    "state": "normal"
   },
   "outputs": [],
   "source": []
  },
  {
   "cell_type": "code",
   "execution_count": null,
   "metadata": {
    "state": "normal"
   },
   "outputs": [],
   "source": []
  },
  {
   "cell_type": "code",
   "execution_count": null,
   "metadata": {
    "state": "normal"
   },
   "outputs": [],
   "source": []
  },
  {
   "cell_type": "code",
   "execution_count": null,
   "metadata": {
    "state": "normal"
   },
   "outputs": [],
   "source": []
  },
  {
   "cell_type": "code",
   "execution_count": null,
   "metadata": {
    "state": "normal"
   },
   "outputs": [],
   "source": []
  },
  {
   "cell_type": "code",
   "execution_count": null,
   "metadata": {
    "state": "normal"
   },
   "outputs": [],
   "source": []
  },
  {
   "cell_type": "code",
   "execution_count": null,
   "metadata": {
    "state": "normal"
   },
   "outputs": [],
   "source": []
  },
  {
   "cell_type": "code",
   "execution_count": null,
   "metadata": {
    "state": "normal"
   },
   "outputs": [],
   "source": []
  },
  {
   "cell_type": "code",
   "execution_count": null,
   "metadata": {
    "state": "normal"
   },
   "outputs": [],
   "source": []
  },
  {
   "cell_type": "code",
   "execution_count": null,
   "metadata": {
    "state": "normal"
   },
   "outputs": [],
   "source": []
  },
  {
   "cell_type": "code",
   "execution_count": null,
   "metadata": {
    "state": "normal"
   },
   "outputs": [],
   "source": []
  },
  {
   "cell_type": "code",
   "execution_count": null,
   "metadata": {
    "state": "normal"
   },
   "outputs": [],
   "source": []
  },
  {
   "cell_type": "code",
   "execution_count": null,
   "metadata": {
    "state": "normal"
   },
   "outputs": [],
   "source": []
  },
  {
   "cell_type": "code",
   "execution_count": null,
   "metadata": {
    "state": "normal"
   },
   "outputs": [],
   "source": []
  },
  {
   "cell_type": "code",
   "execution_count": null,
   "metadata": {
    "state": "normal"
   },
   "outputs": [],
   "source": []
  },
  {
   "cell_type": "code",
   "execution_count": null,
   "metadata": {
    "state": "normal"
   },
   "outputs": [],
   "source": []
  }
 ],
 "metadata": {
  "kernelspec": {
   "display_name": "Python 3",
   "language": "python",
   "name": "python3"
  },
  "language_info": {
   "codemirror_mode": {
    "name": "ipython",
    "version": 3
   },
   "file_extension": ".py",
   "mimetype": "text/x-python",
   "name": "python",
   "nbconvert_exporter": "python",
   "pygments_lexer": "ipython3",
   "version": "3.7.4"
  },
  "mimir": {
   "data": {},
   "last_submission_id": "",
   "project_id": "31491862-4a4d-4efe-b0d8-5f1e8ee8fb38"
  },
  "varInspector": {
   "cols": {
    "lenName": 16,
    "lenType": 16,
    "lenVar": 40
   },
   "kernels_config": {
    "python": {
     "delete_cmd_postfix": "",
     "delete_cmd_prefix": "del ",
     "library": "var_list.py",
     "varRefreshCmd": "print(var_dic_list())"
    },
    "r": {
     "delete_cmd_postfix": ") ",
     "delete_cmd_prefix": "rm(",
     "library": "var_list.r",
     "varRefreshCmd": "cat(var_dic_list()) "
    }
   },
   "types_to_exclude": [
    "module",
    "function",
    "builtin_function_or_method",
    "instance",
    "_Feature"
   ],
   "window_display": false
  }
 },
 "nbformat": 4,
 "nbformat_minor": 2
}
